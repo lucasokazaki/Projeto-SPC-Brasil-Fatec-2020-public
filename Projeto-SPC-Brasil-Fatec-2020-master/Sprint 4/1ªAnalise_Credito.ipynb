{
 "cells": [
  {
   "cell_type": "code",
   "execution_count": 266,
   "metadata": {},
   "outputs": [],
   "source": [
    "#Importação das bibliotecas\n",
    "import pandas as pd\n",
    "import seaborn\n",
    "import matplotlib.pyplot as plt"
   ]
  },
  {
   "cell_type": "code",
   "execution_count": 284,
   "metadata": {},
   "outputs": [],
   "source": [
    "#Leitura das planilhas\n",
    "df2 = pd.read_csv ('fatec_mvt.csv', sep ='|', skiprows = 1)\n",
    "df1 = pd.read_csv ('fatec_opr.csv', sep ='|', skiprows = 1)\n",
    "lugar = pd.read_csv('fatec_endereco_pessoa_fisica.csv', sep = '|', skiprows =1)\n",
    "pessoa = pd.read_csv('fatec_pessoa_fisica.csv', sep = '|', skiprows =1)"
   ]
  },
  {
   "cell_type": "code",
   "execution_count": 268,
   "metadata": {},
   "outputs": [],
   "source": [
    "#Organização das planilhas\n",
    "df1.columns = [x.strip() for x in df1.columns]\n",
    "df1 = df1.iloc[:,1:-1].dropna(how='all')\n",
    "df2.columns = [y.strip() for y in df2.columns]\n",
    "df2 = df2.iloc[:,1:-1].dropna(how='all')"
   ]
  },
  {
   "cell_type": "code",
   "execution_count": 269,
   "metadata": {},
   "outputs": [
    {
     "data": {
      "text/plain": [
       "Index(['id_opr_cad_pos', 'doc_cli', 'tip_cli', 'qtd_pcl', 'dat_vct_ult_pcl',\n",
       "       'vlr_ctrd_fta_tfm', 'sdo_ddr_tfm', 'vlr_ctrd', 'id_ult_rss_opr',\n",
       "       'id_mdl', 'cod_mdl', 'id_fnt'],\n",
       "      dtype='object')"
      ]
     },
     "execution_count": 269,
     "metadata": {},
     "output_type": "execute_result"
    }
   ],
   "source": [
    "df1.columns"
   ]
  },
  {
   "cell_type": "code",
   "execution_count": 270,
   "metadata": {},
   "outputs": [],
   "source": [
    "#Retirada dos espaços\n",
    "def retira_espacos(coluna):\n",
    "    return coluna.replace (' ','')\n",
    "df1['id_opr_cad_pos'] = df1['id_opr_cad_pos'].apply(retira_espacos)\n",
    "df1['cod_mdl'] = df1['cod_mdl'].apply(retira_espacos)\n",
    "df1['doc_cli'] = df1['doc_cli'].apply(retira_espacos)\n",
    "df2['dat_vct'] = df2['dat_vct'].apply(retira_espacos)\n",
    "df2['vlr_tot_fat_tfm'] = df2['vlr_tot_fat_tfm'].apply(retira_espacos)\n",
    "df2['id_opr_cad_pos'] = df2['id_opr_cad_pos'].apply(retira_espacos)\n",
    "df2['vlr_min_fat_tfm'] = df2['vlr_min_fat_tfm'].apply(retira_espacos)\n",
    "cartao = df1.loc[df1['cod_mdl'] == 'D01']\n"
   ]
  },
  {
   "cell_type": "code",
   "execution_count": 273,
   "metadata": {},
   "outputs": [],
   "source": [
    "#Dados para teste\n",
    "vetor = cartao['id_opr_cad_pos'].values\n",
    "df2 = df2.iloc[0:10000,:]"
   ]
  },
  {
   "cell_type": "code",
   "execution_count": 274,
   "metadata": {},
   "outputs": [
    {
     "data": {
      "text/html": [
       "<div>\n",
       "<style scoped>\n",
       "    .dataframe tbody tr th:only-of-type {\n",
       "        vertical-align: middle;\n",
       "    }\n",
       "\n",
       "    .dataframe tbody tr th {\n",
       "        vertical-align: top;\n",
       "    }\n",
       "\n",
       "    .dataframe thead th {\n",
       "        text-align: right;\n",
       "    }\n",
       "</style>\n",
       "<table border=\"1\" class=\"dataframe\">\n",
       "  <thead>\n",
       "    <tr style=\"text-align: right;\">\n",
       "      <th></th>\n",
       "      <th>id_opr_cad_pos</th>\n",
       "      <th>id_mvt_cad_pos</th>\n",
       "      <th>dat_vct</th>\n",
       "      <th>qtd_pcl_vnc</th>\n",
       "      <th>qtd_pcl_pgr</th>\n",
       "      <th>vlr_tot_fat_tfm</th>\n",
       "      <th>vlr_min_fat_tfm</th>\n",
       "      <th>vlr_pcl_tfm</th>\n",
       "      <th>tip_mvt</th>\n",
       "      <th>prd</th>\n",
       "    </tr>\n",
       "  </thead>\n",
       "  <tbody>\n",
       "    <tr>\n",
       "      <th>2</th>\n",
       "      <td>84706050-586</td>\n",
       "      <td>3e537b64-340</td>\n",
       "      <td>10042019</td>\n",
       "      <td>NULL</td>\n",
       "      <td>NULL</td>\n",
       "      <td>2195.7135</td>\n",
       "      <td>329.3049</td>\n",
       "      <td>NULL</td>\n",
       "      <td>ANT</td>\n",
       "      <td>NULL</td>\n",
       "    </tr>\n",
       "    <tr>\n",
       "      <th>3</th>\n",
       "      <td>7b3bc686-d7f</td>\n",
       "      <td>930e64c5-777</td>\n",
       "      <td>17022019</td>\n",
       "      <td>NULL</td>\n",
       "      <td>NULL</td>\n",
       "      <td>3791.8644</td>\n",
       "      <td>56870.4600</td>\n",
       "      <td>NULL</td>\n",
       "      <td>ANT</td>\n",
       "      <td>NULL</td>\n",
       "    </tr>\n",
       "    <tr>\n",
       "      <th>5</th>\n",
       "      <td>c527b570-ce7</td>\n",
       "      <td>81c011a3-349</td>\n",
       "      <td>10102019</td>\n",
       "      <td>NULL</td>\n",
       "      <td>NULL</td>\n",
       "      <td>647.3508</td>\n",
       "      <td>540.4320</td>\n",
       "      <td>NULL</td>\n",
       "      <td>ANT</td>\n",
       "      <td>NULL</td>\n",
       "    </tr>\n",
       "    <tr>\n",
       "      <th>7</th>\n",
       "      <td>b5092b0b-ca7</td>\n",
       "      <td>313590cd-b8c</td>\n",
       "      <td>10032020</td>\n",
       "      <td>NULL</td>\n",
       "      <td>NULL</td>\n",
       "      <td>9760.1352</td>\n",
       "      <td>1598.7780</td>\n",
       "      <td>NULL</td>\n",
       "      <td>ANT</td>\n",
       "      <td>NULL</td>\n",
       "    </tr>\n",
       "    <tr>\n",
       "      <th>8</th>\n",
       "      <td>24514130-848</td>\n",
       "      <td>66136c4f-971</td>\n",
       "      <td>16042019</td>\n",
       "      <td>NULL</td>\n",
       "      <td>NULL</td>\n",
       "      <td>2183.7873</td>\n",
       "      <td>37113.0000</td>\n",
       "      <td>NULL</td>\n",
       "      <td>ANT</td>\n",
       "      <td>NULL</td>\n",
       "    </tr>\n",
       "    <tr>\n",
       "      <th>...</th>\n",
       "      <td>...</td>\n",
       "      <td>...</td>\n",
       "      <td>...</td>\n",
       "      <td>...</td>\n",
       "      <td>...</td>\n",
       "      <td>...</td>\n",
       "      <td>...</td>\n",
       "      <td>...</td>\n",
       "      <td>...</td>\n",
       "      <td>...</td>\n",
       "    </tr>\n",
       "    <tr>\n",
       "      <th>10016</th>\n",
       "      <td>11620505-59e</td>\n",
       "      <td>0432e439-6bd</td>\n",
       "      <td>10122019</td>\n",
       "      <td>NULL</td>\n",
       "      <td>NULL</td>\n",
       "      <td>1919.9097</td>\n",
       "      <td>33401.7000</td>\n",
       "      <td>NULL</td>\n",
       "      <td>ANT</td>\n",
       "      <td>NULL</td>\n",
       "    </tr>\n",
       "    <tr>\n",
       "      <th>10019</th>\n",
       "      <td>527eb715-4de</td>\n",
       "      <td>8fb585c1-36c</td>\n",
       "      <td>10102019</td>\n",
       "      <td>NULL</td>\n",
       "      <td>NULL</td>\n",
       "      <td>5370.4179</td>\n",
       "      <td>80547.7200</td>\n",
       "      <td>NULL</td>\n",
       "      <td>ANT</td>\n",
       "      <td>NULL</td>\n",
       "    </tr>\n",
       "    <tr>\n",
       "      <th>10022</th>\n",
       "      <td>cbe13639-d1c</td>\n",
       "      <td>30ff2b94-664</td>\n",
       "      <td>15052019</td>\n",
       "      <td>NULL</td>\n",
       "      <td>NULL</td>\n",
       "      <td>1412.9628</td>\n",
       "      <td>27509.4900</td>\n",
       "      <td>NULL</td>\n",
       "      <td>ANT</td>\n",
       "      <td>NULL</td>\n",
       "    </tr>\n",
       "    <tr>\n",
       "      <th>10023</th>\n",
       "      <td>3f2a7c37-82f</td>\n",
       "      <td>5f6b9bc5-83f</td>\n",
       "      <td>10052019</td>\n",
       "      <td>NULL</td>\n",
       "      <td>NULL</td>\n",
       "      <td>112.1730</td>\n",
       "      <td>83.4000</td>\n",
       "      <td>NULL</td>\n",
       "      <td>ANT</td>\n",
       "      <td>NULL</td>\n",
       "    </tr>\n",
       "    <tr>\n",
       "      <th>10027</th>\n",
       "      <td>6c775259-132</td>\n",
       "      <td>e960d957-d18</td>\n",
       "      <td>10102019</td>\n",
       "      <td>NULL</td>\n",
       "      <td>NULL</td>\n",
       "      <td>1745.4786</td>\n",
       "      <td>26175.0900</td>\n",
       "      <td>NULL</td>\n",
       "      <td>ANT</td>\n",
       "      <td>NULL</td>\n",
       "    </tr>\n",
       "  </tbody>\n",
       "</table>\n",
       "<p>6206 rows × 10 columns</p>\n",
       "</div>"
      ],
      "text/plain": [
       "      id_opr_cad_pos    id_mvt_cad_pos   dat_vct    qtd_pcl_vnc  \\\n",
       "2       84706050-586   3e537b64-340     10042019   NULL           \n",
       "3       7b3bc686-d7f   930e64c5-777     17022019   NULL           \n",
       "5       c527b570-ce7   81c011a3-349     10102019   NULL           \n",
       "7       b5092b0b-ca7   313590cd-b8c     10032020   NULL           \n",
       "8       24514130-848   66136c4f-971     16042019   NULL           \n",
       "...              ...               ...       ...            ...   \n",
       "10016   11620505-59e   0432e439-6bd     10122019   NULL           \n",
       "10019   527eb715-4de   8fb585c1-36c     10102019   NULL           \n",
       "10022   cbe13639-d1c   30ff2b94-664     15052019   NULL           \n",
       "10023   3f2a7c37-82f   5f6b9bc5-83f     10052019   NULL           \n",
       "10027   6c775259-132   e960d957-d18     10102019   NULL           \n",
       "\n",
       "         qtd_pcl_pgr vlr_tot_fat_tfm vlr_min_fat_tfm    vlr_pcl_tfm  \\\n",
       "2       NULL               2195.7135        329.3049   NULL           \n",
       "3       NULL               3791.8644      56870.4600   NULL           \n",
       "5       NULL                647.3508        540.4320   NULL           \n",
       "7       NULL               9760.1352       1598.7780   NULL           \n",
       "8       NULL               2183.7873      37113.0000   NULL           \n",
       "...              ...             ...             ...            ...   \n",
       "10016   NULL               1919.9097      33401.7000   NULL           \n",
       "10019   NULL               5370.4179      80547.7200   NULL           \n",
       "10022   NULL               1412.9628      27509.4900   NULL           \n",
       "10023   NULL                112.1730         83.4000   NULL           \n",
       "10027   NULL               1745.4786      26175.0900   NULL           \n",
       "\n",
       "         tip_mvt     prd  \n",
       "2       ANT        NULL   \n",
       "3       ANT        NULL   \n",
       "5       ANT        NULL   \n",
       "7       ANT        NULL   \n",
       "8       ANT        NULL   \n",
       "...          ...     ...  \n",
       "10016   ANT        NULL   \n",
       "10019   ANT        NULL   \n",
       "10022   ANT        NULL   \n",
       "10023   ANT        NULL   \n",
       "10027   ANT        NULL   \n",
       "\n",
       "[6206 rows x 10 columns]"
      ]
     },
     "execution_count": 274,
     "metadata": {},
     "output_type": "execute_result"
    }
   ],
   "source": [
    "#Trabalhando somente com dados financeiros relacionados a pagamentos por cartao de crédito\n",
    "for index, row in df2.iterrows():\n",
    "    if row[\"id_opr_cad_pos\"] in vetor:\n",
    "        continue\n",
    "    else:\n",
    "        df2 = df2.drop(index)\n",
    "df2"
   ]
  },
  {
   "cell_type": "code",
   "execution_count": 275,
   "metadata": {},
   "outputs": [],
   "source": [
    "lugar.columns = [x.strip() for x in lugar.columns]\n",
    "lugar = lugar.iloc[:,1:-1].dropna(how='all')\n",
    "lugar['id_pessoa_fisica'] = lugar['id_pessoa_fisica'].apply(retira_espacos)\n",
    "lugar['des_estado'] = lugar['des_estado'].apply(retira_espacos)"
   ]
  },
  {
   "cell_type": "code",
   "execution_count": 276,
   "metadata": {},
   "outputs": [],
   "source": [
    "pessoa.columns = [x.strip() for x in pessoa.columns]\n",
    "pessoa = pessoa.iloc[:,1:-1].dropna(how='all')\n",
    "pessoa['cpf'] = pessoa['cpf'].apply(retira_espacos)"
   ]
  },
  {
   "cell_type": "code",
   "execution_count": 278,
   "metadata": {},
   "outputs": [],
   "source": [
    "doc = df1['doc_cli'].values"
   ]
  },
  {
   "cell_type": "code",
   "execution_count": 279,
   "metadata": {},
   "outputs": [],
   "source": [
    "df2 = df2[['dat_vct','vlr_tot_fat_tfm','vlr_min_fat_tfm']]\n",
    "df2 = df2.fillna(0)\n",
    "df2 = df2.astype(float)"
   ]
  },
  {
   "cell_type": "code",
   "execution_count": 281,
   "metadata": {},
   "outputs": [
    {
     "data": {
      "text/html": [
       "<div>\n",
       "<style scoped>\n",
       "    .dataframe tbody tr th:only-of-type {\n",
       "        vertical-align: middle;\n",
       "    }\n",
       "\n",
       "    .dataframe tbody tr th {\n",
       "        vertical-align: top;\n",
       "    }\n",
       "\n",
       "    .dataframe thead th {\n",
       "        text-align: right;\n",
       "    }\n",
       "</style>\n",
       "<table border=\"1\" class=\"dataframe\">\n",
       "  <thead>\n",
       "    <tr style=\"text-align: right;\">\n",
       "      <th></th>\n",
       "      <th>dat_vct</th>\n",
       "      <th>vlr_tot_fat_tfm</th>\n",
       "      <th>vlr_min_fat_tfm</th>\n",
       "    </tr>\n",
       "  </thead>\n",
       "  <tbody>\n",
       "    <tr>\n",
       "      <th>dat_vct</th>\n",
       "      <td>1.000000</td>\n",
       "      <td>0.107175</td>\n",
       "      <td>0.058771</td>\n",
       "    </tr>\n",
       "    <tr>\n",
       "      <th>vlr_tot_fat_tfm</th>\n",
       "      <td>0.107175</td>\n",
       "      <td>1.000000</td>\n",
       "      <td>0.494363</td>\n",
       "    </tr>\n",
       "    <tr>\n",
       "      <th>vlr_min_fat_tfm</th>\n",
       "      <td>0.058771</td>\n",
       "      <td>0.494363</td>\n",
       "      <td>1.000000</td>\n",
       "    </tr>\n",
       "  </tbody>\n",
       "</table>\n",
       "</div>"
      ],
      "text/plain": [
       "                  dat_vct  vlr_tot_fat_tfm  vlr_min_fat_tfm\n",
       "dat_vct          1.000000         0.107175         0.058771\n",
       "vlr_tot_fat_tfm  0.107175         1.000000         0.494363\n",
       "vlr_min_fat_tfm  0.058771         0.494363         1.000000"
      ]
     },
     "execution_count": 281,
     "metadata": {},
     "output_type": "execute_result"
    }
   ],
   "source": [
    "#Correlação entre colunas\n",
    "df2.corr()"
   ]
  },
  {
   "cell_type": "code",
   "execution_count": 280,
   "metadata": {},
   "outputs": [
    {
     "data": {
      "text/plain": [
       "<matplotlib.axes._subplots.AxesSubplot at 0x2cafcf50>"
      ]
     },
     "execution_count": 280,
     "metadata": {},
     "output_type": "execute_result"
    },
    {
     "data": {
      "image/png": "[encoded data removed]",
      "text/plain": [
       "<Figure size 576x576 with 2 Axes>"
      ]
     },
     "metadata": {
      "needs_background": "light"
     },
     "output_type": "display_data"
    }
   ],
   "source": [
    "#Mapa de Correlação\n",
    "plt.figure(figsize =(8,8))\n",
    "seaborn.heatmap(df2.corr(),annot = True,cmap = 'coolwarm')"
   ]
  },
  {
   "cell_type": "code",
   "execution_count": 282,
   "metadata": {},
   "outputs": [],
   "source": [
    "cartao = cartao[['doc_cli','sdo_ddr_tfm','cod_mdl']]"
   ]
  },
  {
   "cell_type": "code",
   "execution_count": 264,
   "metadata": {},
   "outputs": [],
   "source": [
    "for index, row in cartao.iterrows():\n",
    "    i= 0\n",
    "    for index2,row2 in pessoa.iterrows():\n",
    "        if row['doc_cli'] == row2['cpf']:\n",
    "            cartao.loc[i,'ano'] = row2['ano_dat_nascimento']\n",
    "            i+=1\n",
    "            continue\n",
    "        else:\n",
    "            continue\n"
   ]
  }
 ],
 "metadata": {
  "kernelspec": {
   "display_name": "Python 3",
   "language": "python",
   "name": "python3"
  },
  "language_info": {
   "codemirror_mode": {
    "name": "ipython",
    "version": 3
   },
   "file_extension": ".py",
   "mimetype": "text/x-python",
   "name": "python",
   "nbconvert_exporter": "python",
   "pygments_lexer": "ipython3",
   "version": "3.7.4"
  }
 },
 "nbformat": 4,
 "nbformat_minor": 2
}
